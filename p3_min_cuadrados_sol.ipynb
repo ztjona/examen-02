{
 "cells": [
  {
   "cell_type": "markdown",
   "metadata": {},
   "source": [
    "# P3"
   ]
  },
  {
   "cell_type": "code",
   "execution_count": 309,
   "metadata": {},
   "outputs": [
    {
     "name": "stdout",
     "output_type": "stream",
     "text": [
      "The autoreload extension is already loaded. To reload it, use:\n",
      "  %reload_ext autoreload\n"
     ]
    }
   ],
   "source": [
    "%load_ext autoreload"
   ]
  },
  {
   "cell_type": "markdown",
   "metadata": {},
   "source": [
    "## Mínimos cuadrados"
   ]
  },
  {
   "cell_type": "markdown",
   "metadata": {},
   "source": [
    "La ecuación de la línea es:\n",
    "\n",
    "$ y(x) = a_1 x + a_0 $\n",
    "\n",
    "Al aplicar el método de interpolación por mínimos cuadrados queda el siguiente sistema de ecuaciones:\n",
    "\n",
    "\n",
    "$( \\sum_i (y_i - a_1 x_i - a_0) , \\sum_i (y_i - a_1 x_i - a_0)x_i ) = 0$\n",
    "\n",
    "\n",
    "En caso de la ecuación de segundo grado:\n",
    "$  f(x) = a x^2+ b x+c $\n",
    "\n",
    "se obtiene \n",
    "$ ( \\sum (y_i - a x_i^2 - b x_i -c ) ( x_i^2) ,  \\sum (y_i - a x_i^2 - b x_i  -c) ( x_i), \\sum (y_i - a x_i^2 - b x_i  -c )  ) = 0 $\n"
   ]
  },
  {
   "cell_type": "code",
   "execution_count": 310,
   "metadata": {},
   "outputs": [],
   "source": [
    "# Derivadas parciales\n",
    "# ####################################################################\n",
    "def der_parcial_1(xs: list, ys: list) -> tuple[float, float, float]:\n",
    "    \"\"\"Retorna los coeficientes de la ecuación de la derivada parcial con respecto al parámetro 1 al reemplazar los valores ``xs`` y ``ys``. La ecuación es de la forma:\n",
    "    c_1 * a_1 + c_0 * a_0 = c_ind\n",
    "\n",
    "\n",
    "    ## Parameters\n",
    "\n",
    "    ``xs``: lista de valores de x.\n",
    "\n",
    "    ``ys``: lista de valores de y.\n",
    "\n",
    "    ## Return\n",
    "\n",
    "    ``c_1``: coeficiente del parámetro 1.\n",
    "\n",
    "    ``c_0``: coeficiente del parámetro 0.\n",
    "\n",
    "    ``c_ind``: coeficiente del término independiente.\n",
    "\n",
    "    \"\"\"\n",
    "\n",
    "    # coeficiente del término independiente\n",
    "    c_ind = sum(ys)\n",
    "\n",
    "    # coeficiente del parámetro 1\n",
    "    c_1 = sum(xs)\n",
    "\n",
    "    # coeficiente del parámetro 0\n",
    "    c_0 = len(xs)\n",
    "\n",
    "    return (c_1, c_0, c_ind)\n",
    "\n",
    "\n",
    "def der_parcial_0(xs: list, ys: list) -> tuple[float, float, float]:\n",
    "    \"\"\"Retorna los coeficientes de la ecuación de la derivada parcial con respecto al parámetro 0 al reemplazar los valores ``xs`` y ``ys``. La ecuación es de la forma:\n",
    "    c_1 * a_1 + c_0 * a_0 = c_ind\n",
    "\n",
    "\n",
    "    ## Parameters\n",
    "\n",
    "    ``xs``: lista de valores de x.\n",
    "\n",
    "    ``ys``: lista de valores de y.\n",
    "\n",
    "    ## Return\n",
    "\n",
    "    ``c_1``: coeficiente del parámetro 1.\n",
    "\n",
    "    ``c_0``: coeficiente del parámetro 0.\n",
    "\n",
    "    ``c_ind``: coeficiente del término independiente.\n",
    "\n",
    "    \"\"\"\n",
    "    c_1 = 0\n",
    "    c_0 = 0\n",
    "    c_ind = 0\n",
    "    for xi, yi in zip(xs, ys):\n",
    "        # coeficiente del término independiente\n",
    "        c_ind += xi * yi\n",
    "\n",
    "        # coeficiente del parámetro 1\n",
    "        c_1 += xi * xi\n",
    "\n",
    "        # coeficiente del parámetro 0\n",
    "        c_0 += xi\n",
    "\n",
    "    return (c_1, c_0, c_ind)"
   ]
  },
  {
   "cell_type": "markdown",
   "metadata": {},
   "source": [
    "## Conjunto de datos 1"
   ]
  },
  {
   "cell_type": "code",
   "execution_count": 311,
   "metadata": {},
   "outputs": [],
   "source": [
    "xs = [\n",
    "    1.1715,\n",
    "    1.3396,\n",
    "    1.4163,\n",
    "    1.9962,\n",
    "    2.2523,\n",
    "    2.2947,\n",
    "    2.5793,\n",
    "    2.7054,\n",
    "    2.7635,\n",
    "    2.8200,\n",
    "    3.0317,\n",
    "    3.5111,\n",
    "    3.5393,\n",
    "    3.9829,\n",
    "    4.0323,\n",
    "    4.1353,\n",
    "    4.2084,\n",
    "    4.4683,\n",
    "    4.6509,\n",
    "    4.7489,\n",
    "]\n",
    "\n",
    "\n",
    "ys = [\n",
    "    1.1902,\n",
    "    0.9564,\n",
    "    0.6078,\n",
    "    -0.0856,\n",
    "    -0.3550,\n",
    "    0.1355,\n",
    "    -0.3171,\n",
    "    -0.3425,\n",
    "    -0.3758,\n",
    "    -0.1518,\n",
    "    -0.2767,\n",
    "    0.6251,\n",
    "    0.6447,\n",
    "    2.2733,\n",
    "    2.1789,\n",
    "    2.6781,\n",
    "    2.3818,\n",
    "    3.3786,\n",
    "    4.4971,\n",
    "    5.1431,\n",
    "]"
   ]
  },
  {
   "cell_type": "code",
   "execution_count": 312,
   "metadata": {},
   "outputs": [
    {
     "data": {
      "image/png": "[encoded data removed]",
      "text/plain": [
       "<Figure size 640x480 with 1 Axes>"
      ]
     },
     "metadata": {},
     "output_type": "display_data"
    }
   ],
   "source": [
    "import matplotlib.pyplot as plt\n",
    "\n",
    "plt.scatter(xs, ys)\n",
    "plt.xlabel(\"x\")\n",
    "plt.ylabel(\"y\")\n",
    "plt.title(\"Conjunto de datos 1\")\n",
    "plt.show()"
   ]
  },
  {
   "cell_type": "code",
   "execution_count": 313,
   "metadata": {},
   "outputs": [
    {
     "name": "stdout",
     "output_type": "stream",
     "text": [
      "[08-13 14:25:04][INFO] Se ajustarán 2 parámetros.\n",
      "[08-13 14:25:04][INFO] \n",
      "[[61.6479     20.         24.7861    ]\n",
      " [ 0.         -7.83899109 16.56283549]]\n"
     ]
    },
    {
     "data": {
      "text/plain": [
       "array([ 1.0875256 , -2.11287847])"
      ]
     },
     "execution_count": 313,
     "metadata": {},
     "output_type": "execute_result"
    }
   ],
   "source": [
    "%autoreload 2\n",
    "from src import ajustar_min_cuadrados\n",
    "pars = ajustar_min_cuadrados(xs, ys, gradiente=[der_parcial_0, der_parcial_1])\n",
    "pars # parámetros de la curva ajustada"
   ]
  },
  {
   "cell_type": "code",
   "execution_count": 314,
   "metadata": {},
   "outputs": [],
   "source": [
    "# ####################################################################\n",
    "def linea(x: float, pars: tuple[float]) -> float:\n",
    "    \"\"\"Ecuación de la recta y = a1 * x + a0.\n",
    "\n",
    "    ## Parameters\n",
    "\n",
    "    ``x``: valor de x.\n",
    "\n",
    "    ``pars``: parámetros de la recta. Deben ser de la forma (a1, a0).\n",
    "\n",
    "    ## Return\n",
    "\n",
    "    ``y``: valor de y.\n",
    "\n",
    "    \"\"\"\n",
    "    a1, a0 = pars\n",
    "    return a1 * x + a0"
   ]
  },
  {
   "cell_type": "code",
   "execution_count": 315,
   "metadata": {},
   "outputs": [
    {
     "data": {
      "image/png": "[encoded data removed]",
      "text/plain": [
       "<Figure size 640x480 with 1 Axes>"
      ]
     },
     "metadata": {},
     "output_type": "display_data"
    }
   ],
   "source": [
    "import numpy as np\n",
    "\n",
    "x = np.linspace(1, 5, 100)\n",
    "y_l = [linea(xi, pars) for xi in x]\n",
    "\n",
    "plt.scatter(xs, ys, label=\"Datos\")\n",
    "plt.plot(x, y_l, color=\"red\", label=r\"$ y = a_1 x + a_0 $\")\n",
    "plt.xlabel(\"x\")\n",
    "plt.ylabel(\"y\")\n",
    "plt.title(\"Ajuste por mínimos cuadrados\")\n",
    "plt.legend()\n",
    "plt.show()"
   ]
  },
  {
   "cell_type": "code",
   "execution_count": 316,
   "metadata": {},
   "outputs": [],
   "source": [
    "# ####################################################################\n",
    "def der_parcial_0_parabol(xs: list, ys: list) -> tuple[float, float, float]:\n",
    "    \"\"\"Retorna los coeficientes de la ecuación de la derivada parcial con respecto al parámetro 0 al reemplazar los valores ``xs`` y ``ys``. La ecuación es de la forma:\n",
    "    c_2 * a_2 + c_1 * a_1 + c_0 * a_0 = c_ind    ## Parameters\n",
    "\n",
    "    ``xs``: lista de valores de x.\n",
    "\n",
    "    ``ys``: lista de valores de y.\n",
    "\n",
    "    ## Return\n",
    "\n",
    "    ``c_2``: coeficiente del parámetro 2.\n",
    "\n",
    "    ``c_1``: coeficiente del parámetro 1.\n",
    "\n",
    "    ``c_0``: coeficiente del parámetro 0.\n",
    "\n",
    "    ``c_ind``: coeficiente del término independiente.\n",
    "\n",
    "    \"\"\"\n",
    "    c_2 = 0\n",
    "    c_1 = 0\n",
    "    c_0 = 0\n",
    "    c_ind = 0\n",
    "    for xi, yi in zip(xs, ys):\n",
    "        # coeficiente del término independiente\n",
    "        c_ind += yi\n",
    "\n",
    "        # coeficiente del parámetro 2\n",
    "        c_2 += xi * xi\n",
    "\n",
    "        # coeficiente del parámetro 1\n",
    "        c_1 += xi\n",
    "\n",
    "        # coeficiente del parámetro 0\n",
    "        c_0 += 1\n",
    "\n",
    "    return (c_2, c_1, c_0, c_ind)\n",
    "\n",
    "\n",
    "# ####################################################################\n",
    "def der_parcial_1_parabol(xs: list, ys: list) -> tuple[float, float, float]:\n",
    "    \"\"\"Retorna los coeficientes de la ecuación de la derivada parcial con respecto al parámetro 1 al reemplazar los valores ``xs`` y ``ys``. La ecuación es de la forma:\n",
    "    c_2 * a_2 + c_1 * a_1 + c_0 * a_0 = c_ind    ## Parameters\n",
    "\n",
    "    ``xs``: lista de valores de x.\n",
    "\n",
    "    ``ys``: lista de valores de y.\n",
    "\n",
    "    ## Return\n",
    "\n",
    "    ``c_2``: coeficiente del parámetro 2.\n",
    "\n",
    "    ``c_1``: coeficiente del parámetro 1.\n",
    "\n",
    "    ``c_0``: coeficiente del parámetro 0.\n",
    "\n",
    "    ``c_ind``: coeficiente del término independiente.\n",
    "\n",
    "    \"\"\"\n",
    "    c_2 = 0\n",
    "    c_1 = 0\n",
    "    c_0 = 0\n",
    "    c_ind = 0\n",
    "    for xi, yi in zip(xs, ys):\n",
    "        # coeficiente del término independiente\n",
    "        c_ind += yi * xi\n",
    "\n",
    "        # coeficiente del parámetro 2\n",
    "        c_2 += xi * xi * xi\n",
    "\n",
    "        # coeficiente del parámetro 1\n",
    "        c_1 += xi * xi\n",
    "\n",
    "        # coeficiente del parámetro 0\n",
    "        c_0 += xi\n",
    "\n",
    "    return (c_2, c_1, c_0, c_ind)\n",
    "\n",
    "\n",
    "# ####################################################################\n",
    "def der_parcial_2_parabol(xs: list, ys: list) -> tuple[float, float, float]:\n",
    "    \"\"\"Retorna los coeficientes de la ecuación de la derivada parcial con respecto al parámetro 2 al reemplazar los valores ``xs`` y ``ys``. La ecuación es de la forma:    c_2 * a_2 + c_1 * a_1 + c_0 * a_0 = c_ind\n",
    "\n",
    "    ## Parameters\n",
    "    ``xs``: lista de valores de x.\n",
    "    ``ys``: lista de valores de y.\n",
    "    ## Return\n",
    "    ``c_2``: coeficiente del parámetro 2.\n",
    "    ``c_1``: coeficiente del parámetro 1.\n",
    "    ``c_0``: coeficiente del parámetro 0.\n",
    "    ``c_ind``: coeficiente del término independiente.\n",
    "    \"\"\"\n",
    "\n",
    "    c_2 = 0\n",
    "    c_1 = 0\n",
    "    c_0 = 0\n",
    "    c_ind = 0\n",
    "    for xi, yi in zip(xs, ys):\n",
    "        # coeficiente del término independiente\n",
    "        c_ind += yi * xi**2\n",
    "\n",
    "        # coeficiente del parámetro 2\n",
    "        c_2 += xi**4\n",
    "\n",
    "        # coeficiente del parámetro 1\n",
    "        c_1 += xi**3\n",
    "\n",
    "        # coeficiente del parámetro 0\n",
    "        c_0 += xi**2\n",
    "\n",
    "    return (c_2, c_1, c_0, c_ind)"
   ]
  },
  {
   "cell_type": "code",
   "execution_count": 317,
   "metadata": {},
   "outputs": [],
   "source": [
    "def cuadratica(x: float, pars: tuple[float]) -> float:\n",
    "    a2, a1, a0 = pars\n",
    "    return a2 * x**2 + a1 * x + a0"
   ]
  },
  {
   "cell_type": "code",
   "execution_count": 318,
   "metadata": {},
   "outputs": [
    {
     "name": "stdout",
     "output_type": "stream",
     "text": [
      "[08-13 14:25:04][INFO] Se ajustarán 3 parámetros.\n",
      "[08-13 14:25:04][INFO] \n",
      "[[ 214.18604567   61.6479       20.           24.7861    ]\n",
      " [   0.          -17.57011186  -13.53914045    9.4986119 ]\n",
      " [   0.         -112.51779515  -83.54300563   78.89917291]]\n",
      "[08-13 14:25:04][INFO] \n",
      "[[214.18604567  61.6479      20.          24.7861    ]\n",
      " [  0.         -17.57011186 -13.53914045   9.4986119 ]\n",
      " [  0.           0.           3.16072415  18.07071169]]\n",
      "[ 1.00550151 -4.94621361  5.71726948]\n"
     ]
    }
   ],
   "source": [
    "pars_cuad = ajustar_min_cuadrados(\n",
    "    xs,\n",
    "    ys,\n",
    "    gradiente=[der_parcial_0_parabol, der_parcial_1_parabol, der_parcial_2_parabol],\n",
    ")\n",
    "print(pars_cuad)"
   ]
  },
  {
   "cell_type": "code",
   "execution_count": 319,
   "metadata": {},
   "outputs": [
    {
     "data": {
      "image/png": "[encoded data removed]",
      "text/plain": [
       "<Figure size 640x480 with 1 Axes>"
      ]
     },
     "metadata": {},
     "output_type": "display_data"
    }
   ],
   "source": [
    "import numpy as np\n",
    "\n",
    "x = np.linspace(1, 5, 100)\n",
    "\n",
    "y_cuad = [cuadratica(xi, pars_cuad) for xi in x]\n",
    "\n",
    "plt.scatter(xs, ys, label=\"Datos\")\n",
    "plt.plot(x, y_l, color=\"red\", label=r\"función lineal\")\n",
    "plt.plot(x, y_cuad, color=\"green\", label=r\"función cuadrática\")\n",
    "plt.xlabel(\"x\")\n",
    "plt.ylabel(\"y\")\n",
    "plt.title(\"Ajuste por mínimos cuadrados\")\n",
    "plt.legend()\n",
    "plt.show()"
   ]
  },
  {
   "cell_type": "code",
   "execution_count": 320,
   "metadata": {},
   "outputs": [
    {
     "name": "stdout",
     "output_type": "stream",
     "text": [
      "0.09455791413704316\n",
      "0.06344363574829776\n",
      "0.19922400230545692\n",
      "0.7479577916583121\n",
      "0.09204570480094397\n",
      "3.4958655375741623\n",
      "0.10725451604758791\n",
      "0.1101866762403788\n",
      "0.27449463175376543\n",
      "0.5474485337312173\n",
      "0.8684643245271444\n",
      "0.19383095535156855\n",
      "0.251272845644854\n",
      "0.13440334876797258\n",
      "0.02632194112230323\n",
      "0.0821932952313133\n",
      "0.1376647478711174\n",
      "0.09265660992212377\n",
      "0.007627612610409138\n",
      "0.04642779407022218\n"
     ]
    },
    {
     "data": {
      "text/plain": [
       "np.float64(0.3786671209558097)"
      ]
     },
     "execution_count": 320,
     "metadata": {},
     "output_type": "execute_result"
    }
   ],
   "source": [
    "calc_error_rel = lambda x, x_approx: abs(x - x_approx) / abs(x)\n",
    "\n",
    "y_cuad = [cuadratica(xi, pars_cuad) for xi in xs]\n",
    "\n",
    "errors = [calc_error_rel(yi, y_hat_i) for yi, y_hat_i in zip(ys, y_cuad)]\n",
    "print(*errors, sep=\"\\n\")\n",
    "sum(errors) / len(errors)"
   ]
  },
  {
   "cell_type": "code",
   "execution_count": 322,
   "metadata": {},
   "outputs": [
    {
     "data": {
      "text/plain": [
       "[np.float64(-0.8388422293182376),\n",
       " np.float64(-0.6560291761424244),\n",
       " np.float64(-0.5726159627064642),\n",
       " np.float64(0.05804013209814096),\n",
       " np.float64(0.33655543797753307),\n",
       " np.float64(0.38266652337107576),\n",
       " np.float64(0.6921763088192403),\n",
       " np.float64(0.8293132868410731),\n",
       " np.float64(0.8924985241374133),\n",
       " np.float64(0.9539437204755061),\n",
       " np.float64(1.184172889763547),\n",
       " np.float64(1.7055326618782698),\n",
       " np.float64(1.736200883767371),\n",
       " np.float64(2.2186272394413202),\n",
       " np.float64(2.272351004027193),\n",
       " np.float64(2.3843661407143357),\n",
       " np.float64(2.463864261994241),\n",
       " np.float64(2.746512165149469),\n",
       " np.float64(2.9450943395093945),\n",
       " np.float64(3.0516718482020164)]"
      ]
     },
     "execution_count": 322,
     "metadata": {},
     "output_type": "execute_result"
    }
   ],
   "source": [
    "y_linea"
   ]
  },
  {
   "cell_type": "code",
   "execution_count": 321,
   "metadata": {},
   "outputs": [
    {
     "name": "stdout",
     "output_type": "stream",
     "text": [
      "1.7047909841356392\n",
      "1.6859359850924553\n",
      "1.9421124756605204\n",
      "1.6780389263801516\n",
      "1.9480434872606567\n",
      "1.8241071835503744\n",
      "3.18283288810861\n",
      "3.4213526623097024\n",
      "3.374929547997374\n",
      "7.284214232381463\n",
      "5.279627357295074\n",
      "1.7284157124912332\n",
      "1.6930368912166447\n",
      "0.024049954057396582\n",
      "0.042889074316027696\n",
      "0.10967994447020814\n",
      "0.03445472415578171\n",
      "0.18708572629211248\n",
      "0.3451125526429489\n",
      "0.40664738227877806\n"
     ]
    },
    {
     "data": {
      "text/plain": [
       "np.float64(1.8948678846046576)"
      ]
     },
     "execution_count": 321,
     "metadata": {},
     "output_type": "execute_result"
    }
   ],
   "source": [
    "y_linea = [linea(xi, pars) for xi in xs]\n",
    "\n",
    "errors = [calc_error_rel(yi, y_hat_i) for yi, y_hat_i in zip(ys, y_linea)]\n",
    "print(*errors, sep=\"\\n\")\n",
    "sum(errors) / len(errors)"
   ]
  },
  {
   "cell_type": "markdown",
   "metadata": {},
   "source": [
    "# Indicaciones\n",
    "Su trabajo es ajustar el código para utilizar una función lineal y una cuadrática que aproxime los puntos. Tenga en cuenta las siguientes consideraciones:\n",
    "* Usar el método de mínimos cuadrados para interpolar los puntos.\n",
    "* Graficar la función cuadrática y los puntos dados.\n",
    "* Modificar y utilizar SOLO el código provisto. No se aceptarán la utilización de otras librerías o funciones."
   ]
  }
 ],
 "metadata": {
  "kernelspec": {
   "display_name": "Python 3",
   "language": "python",
   "name": "python3"
  },
  "language_info": {
   "codemirror_mode": {
    "name": "ipython",
    "version": 3
   },
   "file_extension": ".py",
   "mimetype": "text/x-python",
   "name": "python",
   "nbconvert_exporter": "python",
   "pygments_lexer": "ipython3",
   "version": "3.10.11"
  }
 },
 "nbformat": 4,
 "nbformat_minor": 2
}
