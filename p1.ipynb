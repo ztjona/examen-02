{
 "cells": [
  {
   "cell_type": "markdown",
   "metadata": {},
   "source": [
    "# P1"
   ]
  },
  {
   "cell_type": "code",
   "execution_count": 1,
   "metadata": {},
   "outputs": [],
   "source": [
    "import math\n",
    "\n",
    "\n",
    "def tr(num, digits):\n",
    "    if num == 0:\n",
    "        return 0\n",
    "\n",
    "    # Calculate the order of magnitude of the number\n",
    "    magnitude = int(math.floor(math.log10(abs(num))))\n",
    "\n",
    "    # Calculate the scaling factor based on the desired number of significant digits\n",
    "    scaling_factor = 10 ** (digits - magnitude - 1)\n",
    "\n",
    "    # Cut the number to the desired number of significant digits without rounding\n",
    "    cut_num = math.trunc(num * scaling_factor) / scaling_factor\n",
    "\n",
    "    return cut_num\n",
    "\n",
    "\n",
    "def rd(number, significant_digits):\n",
    "    if number == 0:\n",
    "        return 0\n",
    "\n",
    "    magnitude = math.floor(math.log10(abs(number))) + 1\n",
    "    scale = significant_digits - magnitude\n",
    "\n",
    "    return round(number, scale)\n",
    "\n",
    "\n",
    "# Add, subtract, multiply, and divide two numbers with a specified number of significant digits\n",
    "def pls(a, b, digits, fn=rd):\n",
    "    return fn(fn(a, digits) + fn(b, digits), digits)\n",
    "\n",
    "\n",
    "def mns(a, b, digits, fn=rd):\n",
    "    return fn(fn(a, digits) - fn(b, digits), digits)\n",
    "\n",
    "\n",
    "def mlt(a, b, digits, fn=rd):\n",
    "    return fn(fn(a, digits) * fn(b, digits), digits)\n",
    "\n",
    "\n",
    "def dvd(a, b, digits, fn=rd):\n",
    "    return fn(fn(a, digits) / fn(b, digits), digits)"
   ]
  },
  {
   "cell_type": "code",
   "execution_count": 2,
   "metadata": {},
   "outputs": [],
   "source": [
    "from functools import partial\n",
    "\n",
    "\n",
    "# ####################################################################\n",
    "def find_roots_met_A(\n",
    "    a: float, b: float, c: float, fn=rd, digits: int = 4\n",
    ") -> tuple[float, float]:\n",
    "    \"\"\"Find the roots of a quadratic equation using the method A.\n",
    "    Equation of the form: ax^2 + bx + c = 0\n",
    "\n",
    "    x = (-b +- sqrt(b**2 - 4ac)) / (2a)\n",
    "\n",
    "    ## Parameters\n",
    "    ``a``: float\n",
    "    ``b``: float\n",
    "    ``c``: float\n",
    "    ``digits``: int, optional\n",
    "\n",
    "    ## Return\n",
    "\n",
    "    ``x1``: float\n",
    "    ``x2``: float\n",
    "    \"\"\"\n",
    "    mt = partial(mlt, digits=digits)\n",
    "    pl = partial(pls, digits=digits)\n",
    "    mn = partial(mns, digits=digits)\n",
    "    dv = partial(dvd, digits=digits)\n",
    "\n",
    "    a = fn(a, digits)\n",
    "    b = fn(b, digits)\n",
    "    c = fn(c, digits)\n",
    "    p1 = mt(2, a)\n",
    "    p2 = mt(4, a)\n",
    "    p3 = mt(p2, c)\n",
    "    p4 = mt(b, b)\n",
    "\n",
    "    p44 = mn(p4, p3)\n",
    "    p5 = math.sqrt(p44)\n",
    "    p55 = fn(p5, digits)\n",
    "    p6 = pl(-b, p55)\n",
    "    x1 = dv(p6, p1)\n",
    "\n",
    "    p66 = mn(-b, p55)\n",
    "    x2 = dv(p66, p1)\n",
    "\n",
    "    return x1, x2\n",
    "\n",
    "\n",
    "# ####################################################################\n",
    "def find_roots_met_B(\n",
    "    a: float, b: float, c: float, fn=rd, digits: int = 4\n",
    ") -> tuple[float, float]:\n",
    "    \"\"\"Find the roots of a quadratic equation using the method B.\n",
    "    Equation of the form: ax^2 + bx + c = 0\n",
    "\n",
    "    x = -2c/ (b +- sqrt(b**2 - 4ac))\n",
    "\n",
    "    ## Parameters\n",
    "    ``a``: float\n",
    "    ``b``: float\n",
    "    ``c``: float\n",
    "    ``digits``: int, optional\n",
    "\n",
    "    ## Return\n",
    "\n",
    "    ``x1``: float, in the case of a divizion by zero return None\n",
    "    ``x2``: float, in the case of a divizion by zero return None\n",
    "    \"\"\"\n",
    "    mt = partial(mlt, digits=digits)\n",
    "    pl = partial(pls, digits=digits)\n",
    "    mn = partial(mns, digits=digits)\n",
    "    dv = partial(dvd, digits=digits)\n",
    "\n",
    "    a = fn(a, digits)\n",
    "    b = fn(b, digits)\n",
    "    c = fn(c, digits)\n",
    "\n",
    "    p1 = mt(-2, c)\n",
    "    p2 = mt(4, a)\n",
    "    p3 = mt(p2, c)\n",
    "    p4 = mt(b, b)\n",
    "\n",
    "    p44 = mn(p4, p3)\n",
    "    p5 = math.sqrt(p44)\n",
    "    p55 = fn(p5, digits)\n",
    "    p6 = pl(b, p55)\n",
    "    try:\n",
    "        x11 = dv(p1, p6)\n",
    "    except ZeroDivisionError:\n",
    "        x11 = None\n",
    "\n",
    "    p6b = mn(b, p55)\n",
    "    try:\n",
    "        x12 = dv(p1, p6b)\n",
    "    except ZeroDivisionError:\n",
    "        x12 = None\n",
    "    return x11, x12"
   ]
  },
  {
   "cell_type": "code",
   "execution_count": 3,
   "metadata": {},
   "outputs": [],
   "source": [
    "calc_error_rel = lambda x, x_approx: rd(\n",
    "    abs(x - x_approx) / abs(x), significant_digits=6\n",
    ")"
   ]
  },
  {
   "cell_type": "markdown",
   "metadata": {},
   "source": [
    "# Ejercicios"
   ]
  },
  {
   "cell_type": "markdown",
   "metadata": {},
   "source": [
    "## Caso 1"
   ]
  },
  {
   "cell_type": "code",
   "execution_count": 4,
   "metadata": {},
   "outputs": [
    {
     "name": "stdout",
     "output_type": "stream",
     "text": [
      "real -0.016107237 -62.083893\n",
      "MA -0.02 -62.1\n",
      "MB -0.0161 -50.0\n",
      "e1a 0.241678\n",
      "e2a 0.000259439\n",
      "e1b 0.000449301\n",
      "e2b 0.194638\n"
     ]
    }
   ],
   "source": [
    "a = 1\n",
    "b = 62.1\n",
    "c = 1\n",
    "x1_r, x2_r = find_roots_met_A(a, b, c, digits=15)\n",
    "x1_r = rd(x1_r, 8)\n",
    "x2_r = rd(x2_r, 8)\n",
    "print(\"real\", x1_r, x2_r)\n",
    "\n",
    "x1a, x2a = find_roots_met_A(a, b, c)\n",
    "print(\"MA\", x1a, x2a)\n",
    "x1b, x2b = find_roots_met_B(a, b, c)\n",
    "print(\"MB\", x1b, x2b)\n",
    "\n",
    "e1a = calc_error_rel(x1_r, x1a)\n",
    "e2a = calc_error_rel(x2_r, x2a)\n",
    "e1b = calc_error_rel(x1_r, x1b)\n",
    "e2b = calc_error_rel(x2_r, x2b)\n",
    "\n",
    "print(\"e1a\", e1a)\n",
    "print(\"e2a\", e2a)\n",
    "print(\"e1b\", e1b)\n",
    "print(\"e2b\", e2b)"
   ]
  },
  {
   "cell_type": "markdown",
   "metadata": {},
   "source": [
    "## Caso 2"
   ]
  },
  {
   "cell_type": "code",
   "execution_count": 5,
   "metadata": {},
   "outputs": [
    {
     "name": "stdout",
     "output_type": "stream",
     "text": [
      "real 92.24458 0.0054203727\n",
      "MA 92.26 0\n",
      "MB None 0.005421\n",
      "e1a 0.000167164\n",
      "e2a 1.0\n",
      "e1b NaN\n",
      "e2b 0.00011573\n"
     ]
    }
   ],
   "source": [
    "a = 1 / 3\n",
    "b = -123 / 4\n",
    "c = 1 / 6\n",
    "x1_r, x2_r = find_roots_met_A(a, b, c, digits=15)\n",
    "x1_r = rd(x1_r, 8)\n",
    "x2_r = rd(x2_r, 8)\n",
    "print(\"real\", x1_r, x2_r)\n",
    "\n",
    "x1a, x2a = find_roots_met_A(a, b, c)\n",
    "print(\"MA\", x1a, x2a)\n",
    "x1b, x2b = find_roots_met_B(a, b, c)\n",
    "print(\"MB\", x1b, x2b)\n",
    "\n",
    "e1a = calc_error_rel(x1_r, x1a)\n",
    "e2a = calc_error_rel(x2_r, x2a)\n",
    "e2b = calc_error_rel(x2_r, x2b)\n",
    "\n",
    "print(\"e1a\", e1a)\n",
    "print(\"e2a\", e2a)\n",
    "print(\"e1b NaN\")\n",
    "print(\"e2b\", e2b)"
   ]
  }
 ],
 "metadata": {
  "kernelspec": {
   "display_name": "Python 3",
   "language": "python",
   "name": "python3"
  },
  "language_info": {
   "codemirror_mode": {
    "name": "ipython",
    "version": 3
   },
   "file_extension": ".py",
   "mimetype": "text/x-python",
   "name": "python",
   "nbconvert_exporter": "python",
   "pygments_lexer": "ipython3",
   "version": "3.10.11"
  }
 },
 "nbformat": 4,
 "nbformat_minor": 2
}
