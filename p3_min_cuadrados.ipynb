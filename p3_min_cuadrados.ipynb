{
 "cells": [
  {
   "cell_type": "markdown",
   "metadata": {},
   "source": [
    "# P3"
   ]
  },
  {
   "cell_type": "code",
   "execution_count": 8,
   "metadata": {},
   "outputs": [
    {
     "name": "stdout",
     "output_type": "stream",
     "text": [
      "The autoreload extension is already loaded. To reload it, use:\n",
      "  %reload_ext autoreload\n"
     ]
    }
   ],
   "source": [
    "%load_ext autoreload"
   ]
  },
  {
   "cell_type": "markdown",
   "metadata": {},
   "source": [
    "## Mínimos cuadrados"
   ]
  },
  {
   "cell_type": "markdown",
   "metadata": {},
   "source": [
    "La ecuación de la línea es:\n",
    "\n",
    "$ y(x) = a_1 x + a_0 $\n",
    "\n",
    "Al aplicar el método de interpolación por mínimos cuadrados queda el siguiente sistema de ecuaciones:\n",
    "\n",
    "\n",
    "$( \\sum_i (y_i - a_1 x_i - a_0) , \\sum_i (y_i - a_1 x_i - a_0)x_i ) = 0$\n",
    "\n",
    "\n",
    "En caso de la ecuación de segundo grado:\n",
    "$  f(x) = a x^2+ b x+c $\n",
    "\n",
    "se obtiene \n",
    "$ ( \\sum (y_i - a x_i^2 - b x_i -c ) ( x_i^2) ,  \\sum (y_i - a x_i^2 - b x_i  -c) ( x_i), \\sum (y_i - a x_i^2 - b x_i  -c )  ) = 0 $\n"
   ]
  },
  {
   "cell_type": "code",
   "execution_count": 9,
   "metadata": {},
   "outputs": [],
   "source": [
    "# Derivadas parciales\n",
    "# ####################################################################\n",
    "def der_parcial_1(xs: list, ys: list) -> tuple[float, float, float]:\n",
    "    \"\"\"Retorna los coeficientes de la ecuación de la derivada parcial con respecto al parámetro 1 al reemplazar los valores ``xs`` y ``ys``. La ecuación es de la forma:\n",
    "    c_1 * a_1 + c_0 * a_0 = c_ind\n",
    "\n",
    "\n",
    "    ## Parameters\n",
    "\n",
    "    ``xs``: lista de valores de x.\n",
    "\n",
    "    ``ys``: lista de valores de y.\n",
    "\n",
    "    ## Return\n",
    "\n",
    "    ``c_1``: coeficiente del parámetro 1.\n",
    "\n",
    "    ``c_0``: coeficiente del parámetro 0.\n",
    "\n",
    "    ``c_ind``: coeficiente del término independiente.\n",
    "\n",
    "    \"\"\"\n",
    "    # COMPLETAR\n",
    "    pass\n",
    "\n",
    "    # return (c_1, c_0, c_ind)\n",
    "\n",
    "\n",
    "def der_parcial_0(xs: list, ys: list) -> tuple[float, float, float]:\n",
    "    \"\"\"Retorna los coeficientes de la ecuación de la derivada parcial con respecto al parámetro 0 al reemplazar los valores ``xs`` y ``ys``. La ecuación es de la forma:\n",
    "    c_1 * a_1 + c_0 * a_0 = c_ind\n",
    "\n",
    "\n",
    "    ## Parameters\n",
    "\n",
    "    ``xs``: lista de valores de x.\n",
    "\n",
    "    ``ys``: lista de valores de y.\n",
    "\n",
    "    ## Return\n",
    "\n",
    "    ``c_1``: coeficiente del parámetro 1.\n",
    "\n",
    "    ``c_0``: coeficiente del parámetro 0.\n",
    "\n",
    "    ``c_ind``: coeficiente del término independiente.\n",
    "\n",
    "    \"\"\"\n",
    "    # COMPLETAR\n",
    "    pass\n",
    "    # return (c_1, c_0, c_ind)"
   ]
  },
  {
   "cell_type": "markdown",
   "metadata": {},
   "source": [
    "## Conjunto de datos 1"
   ]
  },
  {
   "cell_type": "code",
   "execution_count": 10,
   "metadata": {},
   "outputs": [],
   "source": [
    "xs = [\n",
    "    1.1715,\n",
    "    1.3396,\n",
    "    1.4163,\n",
    "    1.9962,\n",
    "    2.2523,\n",
    "    2.2947,\n",
    "    2.5793,\n",
    "    2.7054,\n",
    "    2.7635,\n",
    "    2.8200,\n",
    "    3.0317,\n",
    "    3.5111,\n",
    "    3.5393,\n",
    "    3.9829,\n",
    "    4.0323,\n",
    "    4.1353,\n",
    "    4.2084,\n",
    "    4.4683,\n",
    "    4.6509,\n",
    "    4.7489,\n",
    "]\n",
    "\n",
    "\n",
    "ys = [\n",
    "    1.1902,\n",
    "    0.9564,\n",
    "    0.6078,\n",
    "    -0.0856,\n",
    "    -0.3550,\n",
    "    0.1355,\n",
    "    -0.3171,\n",
    "    -0.3425,\n",
    "    -0.3758,\n",
    "    -0.1518,\n",
    "    -0.2767,\n",
    "    0.6251,\n",
    "    0.6447,\n",
    "    2.2733,\n",
    "    2.1789,\n",
    "    2.6781,\n",
    "    2.3818,\n",
    "    3.3786,\n",
    "    4.4971,\n",
    "    5.1431,\n",
    "]"
   ]
  },
  {
   "cell_type": "code",
   "execution_count": 11,
   "metadata": {},
   "outputs": [
    {
     "data": {
      "image/png": "[encoded data removed]",
      "text/plain": [
       "<Figure size 640x480 with 1 Axes>"
      ]
     },
     "metadata": {},
     "output_type": "display_data"
    }
   ],
   "source": [
    "import matplotlib.pyplot as plt\n",
    "\n",
    "plt.scatter(xs, ys)\n",
    "plt.xlabel(\"x\")\n",
    "plt.ylabel(\"y\")\n",
    "plt.title(\"Conjunto de datos 1\")\n",
    "plt.show()"
   ]
  },
  {
   "cell_type": "code",
   "execution_count": 12,
   "metadata": {},
   "outputs": [],
   "source": [
    "%autoreload 2\n",
    "from src import ajustar_min_cuadrados\n",
    "# Descomentar para probar la función\n",
    "\n",
    "# pars = ajustar_min_cuadrados(xs, ys, gradiente=[der_parcial_0, der_parcial_1])\n",
    "# pars # parámetros de la curva ajustada"
   ]
  },
  {
   "cell_type": "code",
   "execution_count": 13,
   "metadata": {},
   "outputs": [],
   "source": [
    "# ####################################################################\n",
    "def linea(x: float, pars: tuple[float]) -> float:\n",
    "    \"\"\"Ecuación de la recta y = a1 * x + a0.\n",
    "\n",
    "    ## Parameters\n",
    "\n",
    "    ``x``: valor de x.\n",
    "\n",
    "    ``pars``: parámetros de la recta. Deben ser de la forma (a1, a0).\n",
    "\n",
    "    ## Return\n",
    "\n",
    "    ``y``: valor de y.\n",
    "\n",
    "    \"\"\"\n",
    "    a1, a0 = pars\n",
    "    return a1 * x + a0"
   ]
  },
  {
   "cell_type": "code",
   "execution_count": 14,
   "metadata": {},
   "outputs": [],
   "source": [
    "# ####################################################################\n",
    "def der_parcial_0_parabol(xs: list, ys: list) -> tuple[float, float, float]:\n",
    "    \"\"\"Retorna los coeficientes de la ecuación de la derivada parcial con respecto al parámetro 0 al reemplazar los valores ``xs`` y ``ys``. La ecuación es de la forma:\n",
    "    c_2 * a_2 + c_1 * a_1 + c_0 * a_0 = c_ind    ## Parameters\n",
    "\n",
    "    ``xs``: lista de valores de x.\n",
    "\n",
    "    ``ys``: lista de valores de y.\n",
    "\n",
    "    ## Return\n",
    "\n",
    "    ``c_2``: coeficiente del parámetro 2.\n",
    "\n",
    "    ``c_1``: coeficiente del parámetro 1.\n",
    "\n",
    "    ``c_0``: coeficiente del parámetro 0.\n",
    "\n",
    "    ``c_ind``: coeficiente del término independiente.\n",
    "\n",
    "    \"\"\"\n",
    "    # COMPLETAR\n",
    "    pass\n",
    "\n",
    "    # return (c_2, c_1, c_0, c_ind)\n",
    "\n",
    "\n",
    "# ####################################################################\n",
    "def der_parcial_1_parabol(xs: list, ys: list) -> tuple[float, float, float]:\n",
    "    \"\"\"Retorna los coeficientes de la ecuación de la derivada parcial con respecto al parámetro 1 al reemplazar los valores ``xs`` y ``ys``. La ecuación es de la forma:\n",
    "    c_2 * a_2 + c_1 * a_1 + c_0 * a_0 = c_ind    ## Parameters\n",
    "\n",
    "    ``xs``: lista de valores de x.\n",
    "\n",
    "    ``ys``: lista de valores de y.\n",
    "\n",
    "    ## Return\n",
    "\n",
    "    ``c_2``: coeficiente del parámetro 2.\n",
    "\n",
    "    ``c_1``: coeficiente del parámetro 1.\n",
    "\n",
    "    ``c_0``: coeficiente del parámetro 0.\n",
    "\n",
    "    ``c_ind``: coeficiente del término independiente.\n",
    "\n",
    "    \"\"\"\n",
    "    # COMPLETAR\n",
    "    pass\n",
    "\n",
    "    # return (c_2, c_1, c_0, c_ind)\n",
    "\n",
    "\n",
    "# ####################################################################\n",
    "def der_parcial_2_parabol(xs: list, ys: list) -> tuple[float, float, float]:\n",
    "    \"\"\"Retorna los coeficientes de la ecuación de la derivada parcial con respecto al parámetro 2 al reemplazar los valores ``xs`` y ``ys``. La ecuación es de la forma:    c_2 * a_2 + c_1 * a_1 + c_0 * a_0 = c_ind\n",
    "\n",
    "    ## Parameters\n",
    "    ``xs``: lista de valores de x.\n",
    "    ``ys``: lista de valores de y.\n",
    "    ## Return\n",
    "    ``c_2``: coeficiente del parámetro 2.\n",
    "    ``c_1``: coeficiente del parámetro 1.\n",
    "    ``c_0``: coeficiente del parámetro 0.\n",
    "    ``c_ind``: coeficiente del término independiente.\n",
    "    \"\"\"\n",
    "\n",
    "    # COMPLETAR\n",
    "    pass\n",
    "\n",
    "    # return (c_2, c_1, c_0, c_ind)"
   ]
  },
  {
   "cell_type": "code",
   "execution_count": 15,
   "metadata": {},
   "outputs": [],
   "source": [
    "def cuadratica(x: float, pars: tuple[float]) -> float:\n",
    "    a2, a1, a0 = pars\n",
    "    return a2 * x**2 + a1 * x + a0"
   ]
  },
  {
   "cell_type": "code",
   "execution_count": 16,
   "metadata": {},
   "outputs": [],
   "source": [
    "# pars_cuad = ajustar_min_cuadrados(\n",
    "#     xs,\n",
    "#     ys,\n",
    "#     gradiente=[der_parcial_0_parabol, der_parcial_1_parabol, der_parcial_2_parabol],\n",
    "# )\n",
    "# print(pars_cuad)"
   ]
  },
  {
   "attachments": {
    "image.png": {
     "image/png": "[encoded data removed]"
    }
   },
   "cell_type": "markdown",
   "metadata": {},
   "source": [
    "Su imagen debe ser similar a:\n",
    "\n",
    "![image.png](attachment:image.png)"
   ]
  },
  {
   "cell_type": "markdown",
   "metadata": {},
   "source": [
    "# Indicaciones\n",
    "Su trabajo es ajustar el código para utilizar una función lineal y una cuadrática que aproxime los puntos. Tenga en cuenta las siguientes consideraciones:\n",
    "* Usar el método de mínimos cuadrados para interpolar los puntos.\n",
    "* Graficar la función cuadrática y los puntos dados.\n",
    "* Modificar y utilizar SOLO el código provisto. No se aceptarán la utilización de otras librerías o funciones."
   ]
  }
 ],
 "metadata": {
  "kernelspec": {
   "display_name": "Python 3",
   "language": "python",
   "name": "python3"
  },
  "language_info": {
   "codemirror_mode": {
    "name": "ipython",
    "version": 3
   },
   "file_extension": ".py",
   "mimetype": "text/x-python",
   "name": "python",
   "nbconvert_exporter": "python",
   "pygments_lexer": "ipython3",
   "version": "3.10.11"
  }
 },
 "nbformat": 4,
 "nbformat_minor": 2
}
